{
 "cells": [
  {
   "cell_type": "code",
   "execution_count": 11,
   "metadata": {},
   "outputs": [],
   "source": [
    "from sklearn.datasets import load_breast_cancer\n",
    "cancer1 = load_breast_cancer()"
   ]
  },
  {
   "cell_type": "code",
   "execution_count": 12,
   "metadata": {},
   "outputs": [
    {
     "name": "stdout",
     "output_type": "stream",
     "text": [
      "Predictors:  ['mean radius' 'mean texture' 'mean perimeter' 'mean area'\n",
      " 'mean smoothness' 'mean compactness' 'mean concavity'\n",
      " 'mean concave points' 'mean symmetry' 'mean fractal dimension'\n",
      " 'radius error' 'texture error' 'perimeter error' 'area error'\n",
      " 'smoothness error' 'compactness error' 'concavity error'\n",
      " 'concave points error' 'symmetry error' 'fractal dimension error'\n",
      " 'worst radius' 'worst texture' 'worst perimeter' 'worst area'\n",
      " 'worst smoothness' 'worst compactness' 'worst concavity'\n",
      " 'worst concave points' 'worst symmetry' 'worst fractal dimension']\n",
      "\n",
      "Response:  ['malignant' 'benign']\n"
     ]
    }
   ],
   "source": [
    "print(\"Predictors: \", cancer1.feature_names)\n",
    "print(\"\\nResponse: \", cancer1.target_names)\n"
   ]
  },
  {
   "cell_type": "code",
   "execution_count": 13,
   "metadata": {},
   "outputs": [
    {
     "data": {
      "text/plain": [
       "(569, 31)"
      ]
     },
     "execution_count": 13,
     "metadata": {},
     "output_type": "execute_result"
    }
   ],
   "source": [
    "import pandas as pd\n",
    "\n",
    "cancer = pd.DataFrame(cancer1.data, columns=cancer1.feature_names)\n",
    "cancer.columns = cancer.columns.str.replace(' ','_')\n",
    "\n",
    "#cancer.shape\n",
    "\n",
    "# Add a column for the response variable: malignant or benign\n",
    "cancer['Target'] = cancer1.target\n",
    "\n",
    "# Take a look at the DataFrame again to double check we added the column properly\n",
    "cancer.shape\n"
   ]
  },
  {
   "cell_type": "code",
   "execution_count": 14,
   "metadata": {},
   "outputs": [],
   "source": [
    "from sklearn.model_selection import train_test_split\n",
    "\n",
    "# Select the first 10 columns of our DataFrame that we will use as the predictors in our models\n",
    "x = cancer.iloc[:,:10]\n",
    "\n",
    "# Select the response column \n",
    "y = cancer.Target\n",
    "\n",
    "# Split these data into training and testing datasets\n",
    "x_train, x_test, y_train, y_test = train_test_split(x,y, random_state=123)"
   ]
  },
  {
   "cell_type": "code",
   "execution_count": 16,
   "metadata": {},
   "outputs": [
    {
     "name": "stdout",
     "output_type": "stream",
     "text": [
      "Optimization terminated successfully.\n",
      "         Current function value: 0.131593\n",
      "         Iterations 11\n"
     ]
    }
   ],
   "source": [
    "\n",
    "import statsmodels.api as sm\n",
    "import statsmodels.tools as tools\n",
    "\n",
    "# add constant to training data\n",
    "x_train_const = tools.add_constant(x_train)\n",
    "# Train the logistic regression with the training data\n",
    "log_reg_3 = sm.Logit(y_train, x_train_const).fit()"
   ]
  },
  {
   "cell_type": "code",
   "execution_count": 17,
   "metadata": {},
   "outputs": [
    {
     "name": "stdout",
     "output_type": "stream",
     "text": [
      "                           Logit Regression Results                           \n",
      "==============================================================================\n",
      "Dep. Variable:                 Target   No. Observations:                  426\n",
      "Model:                          Logit   Df Residuals:                      415\n",
      "Method:                           MLE   Df Model:                           10\n",
      "Date:                Fri, 19 Jan 2024   Pseudo R-squ.:                  0.8004\n",
      "Time:                        11:53:23   Log-Likelihood:                -56.059\n",
      "converged:                       True   LL-Null:                       -280.92\n",
      "Covariance Type:            nonrobust   LLR p-value:                 2.402e-90\n",
      "==========================================================================================\n",
      "                             coef    std err          z      P>|z|      [0.025      0.975]\n",
      "------------------------------------------------------------------------------------------\n",
      "const                     17.1132     15.041      1.138      0.255     -12.368      46.594\n",
      "mean_radius               -0.1786      4.151     -0.043      0.966      -8.315       7.958\n",
      "mean_texture              -0.4333      0.079     -5.479      0.000      -0.588      -0.278\n",
      "mean_perimeter             0.2724      0.569      0.479      0.632      -0.842       1.387\n",
      "mean_area                 -0.0301      0.019     -1.617      0.106      -0.067       0.006\n",
      "mean_smoothness          -90.0668     38.119     -2.363      0.018    -164.778     -15.356\n",
      "mean_compactness          -9.5962     23.305     -0.412      0.681     -55.273      36.080\n",
      "mean_concavity           -11.5117      9.451     -1.218      0.223     -30.035       7.011\n",
      "mean_concave_points      -47.8953     32.398     -1.478      0.139    -111.394      15.603\n",
      "mean_symmetry            -23.1823     12.730     -1.821      0.069     -48.133       1.768\n",
      "mean_fractal_dimension    91.5592     98.116      0.933      0.351    -100.745     283.863\n",
      "==========================================================================================\n",
      "\n",
      "Possibly complete quasi-separation: A fraction 0.20 of observations can be\n",
      "perfectly predicted. This might indicate that there is complete\n",
      "quasi-separation. In this case some parameters will not be identified.\n"
     ]
    }
   ],
   "source": [
    "print(log_reg_3.summary())"
   ]
  },
  {
   "cell_type": "code",
   "execution_count": 19,
   "metadata": {},
   "outputs": [
    {
     "name": "stdout",
     "output_type": "stream",
     "text": [
      "\n",
      "Test accuracy =  0.958041958041958\n"
     ]
    }
   ],
   "source": [
    "from sklearn.metrics import accuracy_score\n",
    "# add constant to test data\n",
    "x_test_const = tools.add_constant(x_test)\n",
    "# Predict responses \n",
    "pred_3 = log_reg_3.predict(x_test_const)\n",
    "prediction_3 = list(map(round, pred_3))\n",
    "\n",
    "# Accuracy score\n",
    "print('\\nTest accuracy = ', accuracy_score(y_test, prediction_3))"
   ]
  },
  {
   "cell_type": "code",
   "execution_count": 21,
   "metadata": {},
   "outputs": [
    {
     "name": "stdout",
     "output_type": "stream",
     "text": [
      "\n",
      "Confusion Matrix : \n",
      " [[49  5]\n",
      " [ 1 88]]\n"
     ]
    }
   ],
   "source": [
    "from sklearn.metrics import confusion_matrix\n",
    "# Confusion matrix\n",
    "cm = confusion_matrix(y_test, prediction_3) \n",
    "print (\"\\nConfusion Matrix : \\n\", cm) "
   ]
  },
  {
   "cell_type": "code",
   "execution_count": 27,
   "metadata": {},
   "outputs": [
    {
     "name": "stderr",
     "output_type": "stream",
     "text": [
      "c:\\Users\\westo\\AppData\\Local\\Programs\\Python\\Python310\\lib\\site-packages\\sklearn\\base.py:450: UserWarning: X does not have valid feature names, but LogisticRegression was fitted with feature names\n",
      "  warnings.warn(\n"
     ]
    },
    {
     "data": {
      "image/png": "[encoded data removed]",
      "text/plain": [
       "<Figure size 288x216 with 1 Axes>"
      ]
     },
     "metadata": {},
     "output_type": "display_data"
    }
   ],
   "source": [
    "import numpy as np\n",
    "import matplotlib.pyplot as plt\n",
    "from sklearn.linear_model import LogisticRegression\n",
    "\n",
    "# Train the logistic regression model\n",
    "log_reg = LogisticRegression()\n",
    "log_reg.fit(x_train.iloc[:,:2], y_train)\n",
    "\n",
    "# Create a mesh grid for our graph\n",
    "x_min, x_max = x.iloc[:, 0].min() - .5, x.iloc[:, 0].max() + .5\n",
    "y_min, y_max = x.iloc[:, 1].min() - .5, x.iloc[:, 1].max() + .5\n",
    "h = .02  # step size in the mesh\n",
    "xx, yy = np.meshgrid(np.arange(x_min, x_max, h), np.arange(y_min, y_max, h))\n",
    "\n",
    "# Use the model to predict the class\n",
    "Z = log_reg.predict(np.c_[xx.ravel(), yy.ravel()])\n",
    "\n",
    "# Put the result into a color plot\n",
    "Z = Z.reshape(xx.shape)\n",
    "plt.figure(1, figsize=(4, 3))\n",
    "plt.pcolormesh(xx, yy, Z, cmap=plt.cm.Paired)\n",
    "\n",
    "# Plot also the training points\n",
    "plt.scatter(x_train.iloc[:, 0], x_train.iloc[:, 1], c=y_train, edgecolors='k', cmap=plt.cm.Paired)\n",
    "plt.xlabel('Feature 1')\n",
    "plt.ylabel('Feature 2')\n",
    "\n",
    "plt.xlim(xx.min(), xx.max())\n",
    "plt.ylim(yy.min(), yy.max())\n",
    "plt.xticks(())\n",
    "plt.yticks(())\n",
    "\n",
    "plt.show()\n"
   ]
  }
 ],
 "metadata": {
  "kernelspec": {
   "display_name": "Python 3",
   "language": "python",
   "name": "python3"
  },
  "language_info": {
   "codemirror_mode": {
    "name": "ipython",
    "version": 3
   },
   "file_extension": ".py",
   "mimetype": "text/x-python",
   "name": "python",
   "nbconvert_exporter": "python",
   "pygments_lexer": "ipython3",
   "version": "3.10.5"
  }
 },
 "nbformat": 4,
 "nbformat_minor": 2
}
